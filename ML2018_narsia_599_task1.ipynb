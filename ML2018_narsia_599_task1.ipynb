{
 "cells": [
  {
   "cell_type": "markdown",
   "metadata": {},
   "source": [
    "<span style=\"font-size: 14pt\">Домашнее задание №1 </span>\n",
    "\n",
    "<span style=\"color: red; font-size: 14pt\">Deadline: 03.03.2018 23:59:59</span>\n",
    "\n",
    "<span style=\"font-size: 10pt\">ФИВТ, АПТ, Курс по машинному обучению, Весна 2018</span>\n",
    "\n",
    "<span style=\"color:blue; font-size: 10pt\">Alexey Romanenko, </span>\n",
    "<span style=\"color:blue; font-size: 10pt; font-family: 'Verdana'\">alexromsput@gmail.com</span>\n"
   ]
  },
  {
   "cell_type": "markdown",
   "metadata": {},
   "source": [
    "<h1 align=\"center\">Organization Info</h1> "
   ]
  },
  {
   "cell_type": "markdown",
   "metadata": {},
   "source": [
    "**Дополнительный материал для выполнения дз**:\n",
    "- Воронцов К. В. Математические методы обучения по прецедентам. 2012. \n",
    "- Мерков А. Б. Распознавание образов. Введение в методы статистического обучения. Едиториал УРСС. 2011. 256 стр.\n",
    "- Hastie T., Tibshirani R., Friedman J. The Elements of Statistical Learning. Springer: Data Mining, Inference, and Prediction. — 2nd ed. — Springer-Verlag. 2009. — 746 p.\n",
    "- C. M. Bishop. Pattern Recognition and Machine Learning. — Springer, Series: Information Science and Statistics. 2006. — 738 p.\n",
    "\n",
    "**Оформление дз**: \n",
    "- Присылайте выполненное задание на почту ``ml.course.mipt@gmail.com``\n",
    "- Укажите тему письма в следующем формате ``ML2018_fall <номер_группы> <фамилия>``, к примеру -- ``ML2018_fall 596 ivanov``\n",
    "- Выполненное дз сохраните в файл ``ML2018_<фамилия>_<группа>_task<номер задания>.ipnb``, к примеру -- ``ML2018_ivanov_596_task1.ipnb``\n",
    "\n",
    "**Вопросы**:\n",
    "- Присылайте вопросы на почту ``ml.course.mipt@gmail.com``\n",
    "- Укажите тему письма в следующем формате ``ML2018_fall Question <Содержание вопроса>``\n",
    "\n",
    "--------\n",
    "- **PS1**: Используются автоматические фильтры, и просто не найдем ваше дз, если вы неаккуратно его подпишите.\n",
    "- **PS2**: Просроченный дедлайн снижает максимальный вес задания по формуле, указнной на первом семинаре\n",
    "- **PS3**: Допустимы исправление кода предложенного кода ниже, если вы считаете"
   ]
  },
  {
   "cell_type": "markdown",
   "metadata": {},
   "source": [
    "<h1 align=\"center\"> Вопросы для самоконтроля </h1> \n",
    "\n",
    "Ниже приводится список вопросов, с ответами на которые может быть полезно разобраться для комфортного выполнения задания.\n",
    "\n",
    "* Основные понятия\n",
    "    1. Что такое задачи классификации, кластеризации и регрессии? Какие из них относятся к supervised learning, а какие - к unsupervised learning?\n",
    "    2. Что такое переобучение и недообучение? Как их можно детектировать?\n",
    "    3. Что такое обучающая и тестовая выборки, кросс-валидация? Как устроена k-fold cross validation?\n",
    "    4. Разложение ошибки метода обучения на bias и Variance: как ведут себя обе величины, когда увеличивается сложность семейства настраиваемых алгоритмов?\n",
    "\n",
    "\n",
    "* Простые методы\n",
    "    1. Как работает kNN в задаче классификации?\n",
    "    2. Как работает kNN с весами объектов в задаче классификации и в задаче регрессии?\n",
    "    3. Как работает наивный байесовский классификатор, в чем заключается его \"наивность\"?\n",
    "    4. Как приближается исходная зависимость y от x в линейной регрессии и как настраиваются веса в ней?\n",
    "    5. В чем суть проклятия размерности?\n",
    "\n",
    "\n",
    "* Измерение ошибки/точности в задачах классификации и регрессии\n",
    "    1. Как вычисляются и в каких задачах (классификации/регрессии) применяются метрики:\n",
    "    accuracy, precision, recall, F1-measure, ROC-AUC, PR-AUC, MSE, MAE, RMSE?\n",
    "    2. Решается задача бинарной классификации (с двумя классами - 0 и 1), в которой при-\n",
    "    меры из класса 0 составляют 95% выборки. Какие метрики из перечисленных в преды-\n",
    "    дущем вопросе предпочтительней использовать?\n",
    "    3. К оценке какой величины для распределения y при условии x приводят MSE и MAE?\n",
    "    4. Какая из метрик должня использоваться в задаче регрессии, чтобы ответ был равен медиане распределения прогнозируемой случайно величины?\n",
    "\n",
    "\n",
    "* Python, numpy, scipy, matplotlib, sklearn, pandas\n",
    "    1. Типы данных list, tuple, dict, set, str, unicode, hashable и unhashable. \n",
    "    2. Зачем нужны numpy и scipy? Какой тип данных в numpy используется для работы с\n",
    "    многомерными массивами? Отличия в индексации двумерного ndarray и списка списков.\n",
    "    3. Как в scipy решить численно несложную оптимизационную задачу? Какие методы оп-\n",
    "    тимизации в нем представлены?\n",
    "    4. Как по списку значений x и списку значений y в этих точках построить график y(x) в\n",
    "    matplotlib?\n",
    "    5. Как в sklearn обучить модель на обучающей выборке и получить прогнозы на тестовой?\n",
    "    6. Какие есть средства для измерения качества модели в sklearn? Как посчтитать качество\n",
    "    в k-fold cross validation?\n",
    "    7. Какие метрики можно использовать в cross_val_score из sklearn?\n",
    "    8. Как считать выборку из csv в pandas DataFrame? А как записать DataFrame в файл? Как\n",
    "    указывать при чтении/записи кодировку, используемые разделители, наличие/отсутствие\n",
    "    заголовков у колонок?"
   ]
  },
  {
   "cell_type": "markdown",
   "metadata": {},
   "source": [
    "<h1 align=\"center\">Теоретические вопросы (2 балла) </h1> "
   ]
  },
  {
   "cell_type": "markdown",
   "metadata": {},
   "source": [
    "** Задача 1 **\n",
    "Покажите, что ROC-AUC  в случае, когда классификатор даёт случайные ответы $a(x) = 1$ с вероятностью $p$ и $a(x) = 0$ с вероятностью $1 − p$, будет в среднем равен 0.5 независимо от p и доли класса 1 в обучающей выборке.\n",
    "\n",
    "** Решение: **\n",
    "    Обозначим за $num_0$ и $num_1$ размеры классов 0 и 1. Без ограничения общности будем считать, что $p < 1/2$ (иначе введем новую переменную $q\\stackrel{\\mathrm{def}}{=}1-p$ и сведем задачу к этому случаю).\n",
    "    \n",
    "Далее, обозначим за $m_0, m_1, n_0, n_1$ четыре случайные величины, где $m_0$ - число элементов из класса 0, отнеcенных классификатором к классу 0, $m_1$ - число элементов из класса 1, отнеcенных классификатором к классу 0, $n_0$ - число элементов из класса 0, отнеcенных классификатором к классу 1, $n_1$ - число элементов из класса 1, отнеcенных классификатором к классу 1.\n",
    "\n",
    "ROC-кривая будет строиться по трем точкам: $(0,0), (1,1)$ и $(\\frac{m_0}{num_0},\\frac{m_1}{num_1})$. Площадь области под кривой в таком случае будет равна:\n",
    "\n",
    "$$S = \\frac{1}{2}\\cdot\\frac{m_0}{num_0}\\cdot\\frac{m_1}{num_1} + \\frac{1}{2}\\cdot(1-\\frac{m_o}{num_0})\\cdot(1-\\frac{m_1}{num_1}) = \\frac{m_0m_1}{2num_0num_1} + \\frac{1}{2}\\cdot(1 + \\frac{m_1}{num_1} - \\frac{m_0}{num_0} - \\frac{m_0m_1}{2num_0num_1}) = $$ $$ = \\frac{1}{2} + \\frac{1}{2}\\cdot\\frac{m_1num_0 - m_0num_1}{num_0num_1}.$$\n",
    "\n",
    "Тогда $$ES = \\frac{1}{2} + \\frac{1}{2num_0num_1}\\cdot(num_0\\cdot Em_1 - num_1\\cdot Em_0).$$\n",
    "\n",
    "$Em_0 = E(\\sum\\limits_{x \\in{\\{0\\}}} I\\{a(x) = 0\\}) = \\sum\\limits_{x \\in{\\{0\\}}} P(\\{a(x) = 0\\}) = (1-p)num_0.$\n",
    "\n",
    "Аналогично, $Em_1 = (1-p)num_1.$\n",
    "\n",
    "Таким образом, $$ES = \\frac{1}{2} + \\frac{1}{2num_0num_1}\\cdot(num_0\\cdot (1-p)num_1 - num_1\\cdot (1-p)num_0) = \\frac{1}{2},$$ т. е. среднее значение ROC-AUC равно $\\frac{1}{2}.$"
   ]
  },
  {
   "cell_type": "markdown",
   "metadata": {},
   "source": [
    "** Задача 2 **\n",
    "Покажите, что с ростом размерности пространства признаков при равномерном распределении точек в кубе $[0; 1]^𝑑$ вероятность попасть в куб $[0; 0, 99]^𝑑$ стремится к нулю. Это одна из иллюстраций проклятия размерностей (dimension curse). Попробуйте придумать или найти еще какую-нибудь иллюстрацию к этому явлению и кратко изложить.\n",
    "\n",
    "** Решение: **\n",
    "Обозначим $S = [0; 0, 99]^𝑑$. Тогда $\\mu(S) = (0,99)^𝑑.$ По определению равномерного распределения $$P(x \\in S) = \\frac{\\mu(S)}{\\mu([0; 1]^𝑑)} = \\frac{(0,99)^𝑑}{1} = (0,99)^𝑑 \\xrightarrow[d \\to \\infty]{} 0.$$"
   ]
  },
  {
   "cell_type": "markdown",
   "metadata": {
    "collapsed": true
   },
   "source": [
    "<h1 align=\"center\">Исследуйте зависимость Bias-Variance для kNN (3 балла) </h1> "
   ]
  },
  {
   "cell_type": "markdown",
   "metadata": {},
   "source": [
    "Используя данные из задачи классификации доходов индивидуума http://archive.ics.uci.edu/ml/machine-learning-databases/adult, постройте зависимость величин bias, variance и noise для следующих пар \"модель|параметр\".\n",
    "Предобработка данных (преобразование признаков, разметка классов) определяется вами. \n",
    "\n",
    "* kNN, $n\\_neigbours$ - число соседей при классификации;\n",
    "* $p$ - степень метрики Минковского;\n",
    "* $\\ell\\_train$ - длина обучающий выборки;\n",
    "\n",
    "\n",
    "По каждому построенному графику (для каждого параметра должен быть отдельный график) объясните полученную картину. Совпадает ли она с теоретическими ожиданиями (см. семинар 2)?"
   ]
  },
  {
   "cell_type": "code",
   "execution_count": 3,
   "metadata": {},
   "outputs": [
    {
     "data": {
      "text/html": [
       "<div>\n",
       "<style scoped>\n",
       "    .dataframe tbody tr th:only-of-type {\n",
       "        vertical-align: middle;\n",
       "    }\n",
       "\n",
       "    .dataframe tbody tr th {\n",
       "        vertical-align: top;\n",
       "    }\n",
       "\n",
       "    .dataframe thead th {\n",
       "        text-align: right;\n",
       "    }\n",
       "</style>\n",
       "<table border=\"1\" class=\"dataframe\">\n",
       "  <thead>\n",
       "    <tr style=\"text-align: right;\">\n",
       "      <th></th>\n",
       "      <th>age</th>\n",
       "      <th>workclass</th>\n",
       "      <th>fnlwgt</th>\n",
       "      <th>education</th>\n",
       "      <th>educ-num</th>\n",
       "      <th>marital-status</th>\n",
       "      <th>occupation</th>\n",
       "      <th>relationship</th>\n",
       "      <th>race</th>\n",
       "      <th>sex</th>\n",
       "      <th>capital-gain</th>\n",
       "      <th>capital-loss</th>\n",
       "      <th>hours-per-week</th>\n",
       "      <th>native-country</th>\n",
       "      <th>target</th>\n",
       "    </tr>\n",
       "  </thead>\n",
       "  <tbody>\n",
       "    <tr>\n",
       "      <th>0</th>\n",
       "      <td>39</td>\n",
       "      <td>State-gov</td>\n",
       "      <td>77516</td>\n",
       "      <td>Bachelors</td>\n",
       "      <td>13</td>\n",
       "      <td>Never-married</td>\n",
       "      <td>Adm-clerical</td>\n",
       "      <td>Not-in-family</td>\n",
       "      <td>White</td>\n",
       "      <td>Male</td>\n",
       "      <td>2174</td>\n",
       "      <td>0</td>\n",
       "      <td>40</td>\n",
       "      <td>United-States</td>\n",
       "      <td>&lt;=50K</td>\n",
       "    </tr>\n",
       "    <tr>\n",
       "      <th>1</th>\n",
       "      <td>50</td>\n",
       "      <td>Self-emp-not-inc</td>\n",
       "      <td>83311</td>\n",
       "      <td>Bachelors</td>\n",
       "      <td>13</td>\n",
       "      <td>Married-civ-spouse</td>\n",
       "      <td>Exec-managerial</td>\n",
       "      <td>Husband</td>\n",
       "      <td>White</td>\n",
       "      <td>Male</td>\n",
       "      <td>0</td>\n",
       "      <td>0</td>\n",
       "      <td>13</td>\n",
       "      <td>United-States</td>\n",
       "      <td>&lt;=50K</td>\n",
       "    </tr>\n",
       "    <tr>\n",
       "      <th>2</th>\n",
       "      <td>38</td>\n",
       "      <td>Private</td>\n",
       "      <td>215646</td>\n",
       "      <td>HS-grad</td>\n",
       "      <td>9</td>\n",
       "      <td>Divorced</td>\n",
       "      <td>Handlers-cleaners</td>\n",
       "      <td>Not-in-family</td>\n",
       "      <td>White</td>\n",
       "      <td>Male</td>\n",
       "      <td>0</td>\n",
       "      <td>0</td>\n",
       "      <td>40</td>\n",
       "      <td>United-States</td>\n",
       "      <td>&lt;=50K</td>\n",
       "    </tr>\n",
       "    <tr>\n",
       "      <th>3</th>\n",
       "      <td>53</td>\n",
       "      <td>Private</td>\n",
       "      <td>234721</td>\n",
       "      <td>11th</td>\n",
       "      <td>7</td>\n",
       "      <td>Married-civ-spouse</td>\n",
       "      <td>Handlers-cleaners</td>\n",
       "      <td>Husband</td>\n",
       "      <td>Black</td>\n",
       "      <td>Male</td>\n",
       "      <td>0</td>\n",
       "      <td>0</td>\n",
       "      <td>40</td>\n",
       "      <td>United-States</td>\n",
       "      <td>&lt;=50K</td>\n",
       "    </tr>\n",
       "    <tr>\n",
       "      <th>4</th>\n",
       "      <td>28</td>\n",
       "      <td>Private</td>\n",
       "      <td>338409</td>\n",
       "      <td>Bachelors</td>\n",
       "      <td>13</td>\n",
       "      <td>Married-civ-spouse</td>\n",
       "      <td>Prof-specialty</td>\n",
       "      <td>Wife</td>\n",
       "      <td>Black</td>\n",
       "      <td>Female</td>\n",
       "      <td>0</td>\n",
       "      <td>0</td>\n",
       "      <td>40</td>\n",
       "      <td>Cuba</td>\n",
       "      <td>&lt;=50K</td>\n",
       "    </tr>\n",
       "  </tbody>\n",
       "</table>\n",
       "</div>"
      ],
      "text/plain": [
       "   age          workclass  fnlwgt   education  educ-num       marital-status  \\\n",
       "0   39          State-gov   77516   Bachelors        13        Never-married   \n",
       "1   50   Self-emp-not-inc   83311   Bachelors        13   Married-civ-spouse   \n",
       "2   38            Private  215646     HS-grad         9             Divorced   \n",
       "3   53            Private  234721        11th         7   Married-civ-spouse   \n",
       "4   28            Private  338409   Bachelors        13   Married-civ-spouse   \n",
       "\n",
       "           occupation    relationship    race      sex  capital-gain  \\\n",
       "0        Adm-clerical   Not-in-family   White     Male          2174   \n",
       "1     Exec-managerial         Husband   White     Male             0   \n",
       "2   Handlers-cleaners   Not-in-family   White     Male             0   \n",
       "3   Handlers-cleaners         Husband   Black     Male             0   \n",
       "4      Prof-specialty            Wife   Black   Female             0   \n",
       "\n",
       "   capital-loss  hours-per-week  native-country  target  \n",
       "0             0              40   United-States   <=50K  \n",
       "1             0              13   United-States   <=50K  \n",
       "2             0              40   United-States   <=50K  \n",
       "3             0              40   United-States   <=50K  \n",
       "4             0              40            Cuba   <=50K  "
      ]
     },
     "execution_count": 3,
     "metadata": {},
     "output_type": "execute_result"
    }
   ],
   "source": [
    "import numpy as np\n",
    "import pandas as pd\n",
    "import matplotlib.pyplot as plt\n",
    "from sklearn.model_selection import train_test_split\n",
    "from sklearn.neighbors import KNeighborsClassifier\n",
    "from sklearn import preprocessing\n",
    "%matplotlib inline\n",
    "\n",
    "# Settings\n",
    "n_repeat = 100       # Number of iterations for computing expectations\n",
    "test_size = 0.5       # (Relative) Size of the test set\n",
    "\n",
    "# Исследуемая сетка параметров\n",
    "# пояснение: длина train выборки должна варьироваться от 50% до 200% относительно длины тестовой выборки  \n",
    "parameters = {\"k\": np.arange(1, 21), \"p\":  np.arange(1, 10, 0.5), \"l_train\": np.arange(0.5, 2, 0.1)}\n",
    "\n",
    "# Get Data\n",
    "names = ['age', 'workclass', 'fnlwgt', 'education', 'educ-num', 'marital-status', 'occupation', 'relationship',\n",
    "           'race', 'sex', 'capital-gain', 'capital-loss',  'hours-per-week', 'native-country', 'target']\n",
    "frame = pd.read_csv('http://archive.ics.uci.edu/ml/machine-learning-databases/adult/adult.data', names=names)\n",
    "frame.head()"
   ]
  },
  {
   "cell_type": "code",
   "execution_count": 4,
   "metadata": {},
   "outputs": [],
   "source": [
    "def number_encode_features(init_df):\n",
    "    result = init_df.copy()\n",
    "    encoders = {}\n",
    "    for column in result.columns:\n",
    "        if result.dtypes[column] == np.object:\n",
    "            encoders[column] = preprocessing.LabelEncoder()\n",
    "            result[column] = encoders[column].fit_transform(result[column])\n",
    "    return result, encoders\n",
    "\n",
    "encoded_frame, encoders = number_encode_features(frame)\n",
    "data = encoded_frame.drop('target', axis=1)\n",
    "target = encoded_frame['target']"
   ]
  },
  {
   "cell_type": "code",
   "execution_count": 6,
   "metadata": {},
   "outputs": [],
   "source": [
    "train, test = train_test_split(encoded_frame, test_size=0.33)\n",
    "X_test, y_test = test[names[:-1]].values, test['target']\n",
    "n_test = len(y_test)"
   ]
  },
  {
   "cell_type": "code",
   "execution_count": 50,
   "metadata": {},
   "outputs": [],
   "source": [
    "# Для того чтобы оценить bias и variance, нужно сгенерировать случайные подвыборки с возвращением из исходного массива данных \n",
    "# (бутстрепинг)\n",
    "X_train, y_train = [], []\n",
    "for i in range(n_repeat):\n",
    "    sample_train = train.sample(n=len(train), replace=True)\n",
    "    X, y = sample_train[columns[:-1]].values, sample_train['target'].values\n",
    "    X_train.append(X)\n",
    "    y_train.append(y)"
   ]
  },
  {
   "cell_type": "code",
   "execution_count": 82,
   "metadata": {},
   "outputs": [],
   "source": [
    "from tqdm import tqdm\n",
    "def compute_bias_variance(p_name, parameter, bias_variance_df):\n",
    "    # Compute predictions\n",
    "    y_predict = np.zeros((n_test, n_repeat))\n",
    "\n",
    "    for i in tqdm(range(n_repeat)):\n",
    "        if p_name == 'p':\n",
    "            estimator = KNeighborsClassifier(p_name=parameter)\n",
    "        elif p_name == 'k':\n",
    "            estimator = KNeighborsClassifier(n_neighbors=parameter)\n",
    "        else:\n",
    "            estimator = KNeighborsClassifier()\n",
    "        estimator.fit(X_train[i], y_train[i])\n",
    "        y_predict[:, i] = estimator.predict(X_test)\n",
    "\n",
    "    # Bias^2 + Variance + Noise decomposition of the mean squared error\n",
    "    y_error = np.zeros(n_test)\n",
    "\n",
    "    for i in range(n_repeat):\n",
    "        y_error += (y_test - y_predict[:, i]) ** 2\n",
    "\n",
    "    y_error /= n_repeat\n",
    "\n",
    "    # В каждой точке тестовой выборки bias положим равным квадрату разности реального значения \n",
    "    # и среднего предсказанного значения по всем обучающим выборкам.\n",
    "    y_bias = (y_test - np.mean(y_predict, axis=1)) ** 2\n",
    "\n",
    "    # Variance положим равным среднеквадратичному разбросу значений по всем обучающим выборкам. \n",
    "    # Итоговое значение bias и variance возьмём равным среднему по всем точкам тестовой выборки\n",
    "    y_var = np.var(y_predict, axis=1)\n",
    "\n",
    "    bias_variance_df.loc[bias_variance_df[p_name]==parameter, 'bias'] = y_bias.mean()\n",
    "    bias_variance_df.loc[bias_variance_df[p_name]==parameter, 'variance'] = y_var.mean()\n",
    "    bias_variance_df.loc[bias_variance_df[p_name]==parameter, 'error'] = y_error.mean()"
   ]
  },
  {
   "cell_type": "markdown",
   "metadata": {},
   "source": [
    "# Зависимость от параметра p:"
   ]
  },
  {
   "cell_type": "code",
   "execution_count": 61,
   "metadata": {},
   "outputs": [
    {
     "name": "stderr",
     "output_type": "stream",
     "text": [
      "100%|██████████| 100/100 [00:38<00:00,  2.58it/s]\n",
      "100%|██████████| 100/100 [02:51<00:00,  1.71s/it]\n",
      "100%|██████████| 100/100 [00:36<00:00,  2.72it/s]\n",
      "100%|██████████| 100/100 [02:49<00:00,  1.69s/it]\n",
      "100%|██████████| 100/100 [03:19<00:00,  1.99s/it]\n",
      "100%|██████████| 100/100 [02:58<00:00,  1.79s/it]\n",
      "100%|██████████| 100/100 [03:00<00:00,  1.81s/it]\n",
      "100%|██████████| 100/100 [02:53<00:00,  1.74s/it]\n",
      "100%|██████████| 100/100 [03:21<00:00,  2.02s/it]\n",
      "100%|██████████| 100/100 [03:38<00:00,  2.19s/it]\n",
      "100%|██████████| 100/100 [03:16<00:00,  1.96s/it]\n",
      "100%|██████████| 100/100 [03:16<00:00,  1.97s/it]\n",
      "100%|██████████| 100/100 [03:06<00:00,  1.86s/it]\n",
      "100%|██████████| 100/100 [03:10<00:00,  1.90s/it]\n",
      "100%|██████████| 100/100 [03:20<00:00,  2.00s/it]\n",
      "100%|██████████| 100/100 [03:09<00:00,  1.90s/it]\n",
      "100%|██████████| 100/100 [03:32<00:00,  2.13s/it]\n",
      "100%|██████████| 100/100 [03:02<00:00,  1.83s/it]\n"
     ]
    }
   ],
   "source": [
    "p_name ='p'\n",
    "bias_variance_df = pd.DataFrame.from_dict({p_name:parameters[p_name],'bias':list([np.NaN]*len(parameters[p_name]))\n",
    "                                           , 'variance':list([np.NaN]*len(parameters[p_name]))\n",
    "                                           , 'error':list([np.NaN]*len(parameters[p_name]))})\n",
    "for parameter in parameters[p_name]:\n",
    "    bias_variance_df = compute_bias_variance(p_name, parameter, bias_variance_df)"
   ]
  },
  {
   "cell_type": "code",
   "execution_count": 63,
   "metadata": {},
   "outputs": [
    {
     "data": {
      "text/plain": [
       "<matplotlib.figure.Figure at 0x7ffa2819cd30>"
      ]
     },
     "metadata": {},
     "output_type": "display_data"
    },
    {
     "data": {
      "image/png": "[encoded data removed]",
      "text/plain": [
       "<matplotlib.figure.Figure at 0x7ffa281a0cc0>"
      ]
     },
     "metadata": {},
     "output_type": "display_data"
    }
   ],
   "source": [
    "# нарисуйте зависимость bias, variance и error от значений параметров\n",
    "plt.figure(figsize=(10, 8))\n",
    "bias_variance_df.set_index(p_name).plot()\n",
    "plt.show()"
   ]
  },
  {
   "cell_type": "markdown",
   "metadata": {},
   "source": [
    "**Вывод:** показатели bias, error и variance слабо меняются для различных параметров метрики Минковского."
   ]
  },
  {
   "cell_type": "markdown",
   "metadata": {},
   "source": [
    "# Зависимость от параметра k:"
   ]
  },
  {
   "cell_type": "code",
   "execution_count": 84,
   "metadata": {},
   "outputs": [
    {
     "name": "stderr",
     "output_type": "stream",
     "text": [
      "100%|██████████| 100/100 [00:25<00:00,  3.88it/s]\n",
      "100%|██████████| 100/100 [00:29<00:00,  3.44it/s]\n",
      "100%|██████████| 100/100 [00:33<00:00,  3.03it/s]\n",
      "100%|██████████| 100/100 [00:31<00:00,  3.20it/s]\n",
      "100%|██████████| 100/100 [00:34<00:00,  2.91it/s]\n",
      "100%|██████████| 100/100 [00:35<00:00,  2.82it/s]\n",
      "100%|██████████| 100/100 [00:36<00:00,  2.77it/s]\n",
      "100%|██████████| 100/100 [00:34<00:00,  2.89it/s]\n",
      "100%|██████████| 100/100 [00:33<00:00,  2.97it/s]\n",
      "100%|██████████| 100/100 [00:35<00:00,  2.86it/s]\n",
      "100%|██████████| 100/100 [00:36<00:00,  2.72it/s]\n",
      "100%|██████████| 100/100 [00:41<00:00,  2.41it/s]\n",
      "100%|██████████| 100/100 [00:39<00:00,  2.51it/s]\n",
      "100%|██████████| 100/100 [00:46<00:00,  2.13it/s]\n",
      "100%|██████████| 100/100 [00:46<00:00,  2.16it/s]\n",
      "100%|██████████| 100/100 [00:42<00:00,  2.36it/s]\n",
      "100%|██████████| 100/100 [00:45<00:00,  2.18it/s]\n",
      "100%|██████████| 100/100 [00:44<00:00,  2.25it/s]\n",
      "100%|██████████| 100/100 [00:59<00:00,  1.69it/s]\n",
      "100%|██████████| 100/100 [01:03<00:00,  1.58it/s]\n"
     ]
    }
   ],
   "source": [
    "p_name ='k'\n",
    "bias_variance_df = pd.DataFrame.from_dict({p_name:parameters[p_name],'bias':list([np.NaN]*len(parameters[p_name]))\n",
    "                                           , 'variance':list([np.NaN]*len(parameters[p_name]))\n",
    "                                           , 'error':list([np.NaN]*len(parameters[p_name]))})\n",
    "for parameter in parameters[p_name]:\n",
    "    compute_bias_variance(p_name, parameter, bias_variance_df)"
   ]
  },
  {
   "cell_type": "code",
   "execution_count": 85,
   "metadata": {},
   "outputs": [
    {
     "data": {
      "text/plain": [
       "<matplotlib.figure.Figure at 0x7ffa29495f28>"
      ]
     },
     "metadata": {},
     "output_type": "display_data"
    },
    {
     "data": {
      "image/png": "[encoded data removed]",
      "text/plain": [
       "<matplotlib.figure.Figure at 0x7ffa280c7c88>"
      ]
     },
     "metadata": {},
     "output_type": "display_data"
    }
   ],
   "source": [
    "plt.figure(figsize=(10, 8))\n",
    "bias_variance_df.set_index(p_name).plot()\n",
    "plt.show()"
   ]
  },
  {
   "cell_type": "markdown",
   "metadata": {},
   "source": [
    "**Вывод:** показатели существенно зависят от количества соседей. С ростом k значение bias возрастает, значения variance и error убывают. Также, можно заметить, что при нечетных k ошибка больше, чем при четных."
   ]
  },
  {
   "cell_type": "markdown",
   "metadata": {},
   "source": [
    "# Зависимость от параметра $l_{train}$:"
   ]
  },
  {
   "cell_type": "code",
   "execution_count": 88,
   "metadata": {},
   "outputs": [
    {
     "name": "stderr",
     "output_type": "stream",
     "text": [
      "100%|██████████| 100/100 [00:14<00:00,  6.70it/s]\n",
      "100%|██████████| 100/100 [00:16<00:00,  6.20it/s]\n",
      "100%|██████████| 100/100 [00:18<00:00,  5.43it/s]\n",
      "100%|██████████| 100/100 [00:20<00:00,  4.86it/s]\n",
      "100%|██████████| 100/100 [00:22<00:00,  4.51it/s]\n",
      "100%|██████████| 100/100 [00:26<00:00,  3.78it/s]\n",
      "100%|██████████| 100/100 [00:30<00:00,  3.30it/s]\n",
      "100%|██████████| 100/100 [00:34<00:00,  2.90it/s]\n",
      "100%|██████████| 100/100 [00:39<00:00,  2.52it/s]\n",
      "100%|██████████| 100/100 [00:44<00:00,  2.22it/s]\n",
      "100%|██████████| 100/100 [00:48<00:00,  2.07it/s]\n",
      "100%|██████████| 100/100 [00:54<00:00,  1.85it/s]\n",
      "100%|██████████| 100/100 [01:02<00:00,  1.61it/s]\n",
      "100%|██████████| 100/100 [01:08<00:00,  1.47it/s]\n",
      "100%|██████████| 100/100 [01:14<00:00,  1.34it/s]\n"
     ]
    }
   ],
   "source": [
    "p_name = 'l_train'\n",
    "bias_variance_df = pd.DataFrame.from_dict({p_name:parameters[p_name],'bias':list([np.NaN]*len(parameters[p_name]))\n",
    "                                           , 'variance':list([np.NaN]*len(parameters[p_name]))\n",
    "                                           , 'error':list([np.NaN]*len(parameters[p_name]))})\n",
    "for parameter in parameters[p_name]:\n",
    "    X_train, y_train = [], []\n",
    "    for i in range(n_repeat):\n",
    "        sample_train = train.sample(n=int(len(train) * parameter), replace=True)\n",
    "        X, y = sample_train[columns[:-1]].values, sample_train['target'].values\n",
    "        X_train.append(X)\n",
    "        y_train.append(y)\n",
    "    compute_bias_variance(p_name, parameter, bias_variance_df)"
   ]
  },
  {
   "cell_type": "code",
   "execution_count": 89,
   "metadata": {},
   "outputs": [
    {
     "data": {
      "text/plain": [
       "<matplotlib.figure.Figure at 0x7ffa2033f940>"
      ]
     },
     "metadata": {},
     "output_type": "display_data"
    },
    {
     "data": {
      "image/png": "[encoded data removed]",
      "text/plain": [
       "<matplotlib.figure.Figure at 0x7ffa2034acf8>"
      ]
     },
     "metadata": {},
     "output_type": "display_data"
    }
   ],
   "source": [
    "plt.figure(figsize=(10, 8))\n",
    "bias_variance_df.set_index(p_name).plot()\n",
    "plt.show()"
   ]
  },
  {
   "cell_type": "markdown",
   "metadata": {},
   "source": [
    "**Вывод:** с увеличением размера обучающей выборки bias и variance растут и, как следствие, растет error."
   ]
  },
  {
   "cell_type": "markdown",
   "metadata": {},
   "source": [
    "<h2 align=\"center\">Реализуйте kNN (2 балла)</h2>"
   ]
  },
  {
   "cell_type": "code",
   "execution_count": 7,
   "metadata": {},
   "outputs": [],
   "source": [
    "import warnings\n",
    "import numpy as np\n",
    "from sklearn.metrics.pairwise import euclidean_distances\n",
    "\n",
    "warnings.simplefilter(\"ignore\")\n",
    "\n",
    "class kNNClassifier():\n",
    "    def __init__(self, n_neighbors, metric=euclidean_distances):\n",
    "        self.n_neighbors = n_neighbors\n",
    "        self.metric = metric\n",
    "        \n",
    "    def fit(self, X, y):\n",
    "        self.X = X\n",
    "\n",
    "        self.y = y\n",
    "        self.classes = np.unique(y)\n",
    "        \n",
    "        return self\n",
    "\n",
    "    def predict(self, X_test):\n",
    "        dist = self.metric(X_test, self.X)\n",
    "        \n",
    "        neighbors = np.argsort(dist, axis=1)[:, :self.n_neighbors]\n",
    "            \n",
    "        y_pred = np.empty(len(neighbors))\n",
    "        for i in range(len(neighbors)):\n",
    "            single_classes = self.y[neighbors[i]]\n",
    "            uniques, counts = np.unique(single_classes, return_counts=True)\n",
    "            y_pred[i] = uniques[counts.argmax()]\n",
    "        \n",
    "        return y_pred"
   ]
  },
  {
   "cell_type": "code",
   "execution_count": 12,
   "metadata": {},
   "outputs": [],
   "source": [
    "data = encoded_frame.drop('target', axis=1).values[:10000]\n",
    "target = encoded_frame['target'].values[:10000]\n",
    "X_train, X_test, y_train, y_test = train_test_split(data, target, test_size=0.33)"
   ]
  },
  {
   "cell_type": "code",
   "execution_count": 16,
   "metadata": {},
   "outputs": [
    {
     "name": "stdout",
     "output_type": "stream",
     "text": [
      "0.8498507462686568 0.7475757575757576\n",
      "0.8219402985074626 0.776060606060606\n",
      "0.8002985074626866 0.7972727272727272\n"
     ]
    }
   ],
   "source": [
    "from sklearn.metrics import accuracy_score\n",
    "\n",
    "for k in [3, 5, 10]:\n",
    "    clf = kNNClassifier(k)\n",
    "    clf.fit(X_train, y_train)\n",
    "    print (accuracy_score(clf.predict(X_train), y_train), accuracy_score(clf.predict(X_test), y_test))"
   ]
  },
  {
   "cell_type": "markdown",
   "metadata": {},
   "source": [
    "**Вывод:** с ростом k повышается качество предсказаний на тестовой выборке, но понижается на обучающей. При маленьких k предсказания будут слишком неточными, т. к. будут чувствительны к шумам, а при слишком больших k классификатор будет слишком простым и выдавать почти во всех точках одно и то же значение. При запуске предсказаний на обучающей выборке более точные предсказания получаются при меньших k, потому что первым ближайшим соседом объекта является он сам, и чем меньше соседей, тем более вероятно, что объект будет отнесен к нужному классу, а при k = 1 на обучающей выборке качество вообще будет равно 1."
   ]
  },
  {
   "cell_type": "markdown",
   "metadata": {},
   "source": [
    "<h1 align=\"center\">Отбор признаков (3 балла) </h1>"
   ]
  },
  {
   "cell_type": "markdown",
   "metadata": {},
   "source": [
    "Реализуйте алгоритм отбора признаков ADD_DELL и примените его для kNN на данных sklearn.datasets.digits(). \n",
    "Для этого предлагается реализовать следующие функции"
   ]
  },
  {
   "cell_type": "code",
   "execution_count": 18,
   "metadata": {},
   "outputs": [],
   "source": [
    "from numpy.random import shuffle"
   ]
  },
  {
   "cell_type": "code",
   "execution_count": 52,
   "metadata": {},
   "outputs": [],
   "source": [
    "# обновление минимального значения ошибки\n",
    "def update_Q_min_index(estimator, Q_min, Q_min_set, Q_min_index, feature_set, X_train, Y_train, X_test, Y_test, update_equal=False):\n",
    "    feature_set_size = len(feature_set)\n",
    "    estimator.fit(X_train[:, feature_set], Y_train)\n",
    "    error = 1 - accuracy_score(Y_test, estimator.predict(X_test[:, feature_set]))\n",
    "    if error < Q_min[feature_set_size]:\n",
    "        Q_min_set[feature_set_size] = feature_set\n",
    "        Q_min[feature_set_size] = error\n",
    "        if ((Q_min[feature_set_size] < Q_min[Q_min_index])\n",
    "                or (update_equal and Q_min[feature_set_size] == Q_min[Q_min_index])):\n",
    "            Q_min_index = feature_set_size\n",
    "    return Q_min_index\n",
    "\n",
    "\n",
    "# Нужно реализовать алгоритм добавление\n",
    "def add_one(estimator, feature_set, X_train, Y_train, X_test, Y_test, look_forward=10, start_feature_set=[]):\n",
    "    Q_min = {0: float('+inf')}\n",
    "    Q_min_set = {0: []}\n",
    "    Q_min_index = 0\n",
    "    \n",
    "    # инициализация стартового набора признаков     \n",
    "    if start_feature_set:\n",
    "        estimator.fit(X_train[:, feature_set], Y_train)\n",
    "        error = 1 - accuracy_score(Y_test, estimator.predict(X_test[:, feature_set]))\n",
    "        Q_min = {len(start_feature_set) : error}\n",
    "        Q_min_set = {len(start_feature_set) : start_feature_set}\n",
    "        Q_min_index = len(start_feature_set)\n",
    "    \n",
    "    # добавление признаков     \n",
    "    for feature_set_size in range(len(start_feature_set) + 1, len(feature_set) + 1):\n",
    "        Q_min[feature_set_size] = float('+inf')\n",
    "        unused_features = set(feature_set).difference(set(Q_min_set[feature_set_size - 1]))\n",
    "        unused_features = list(unused_features)\n",
    "        np.random.shuffle(unused_features)\n",
    "        for feature in unused_features:\n",
    "            new_feature_set = Q_min_set[feature_set_size - 1] + [feature]\n",
    "            Q_min_index = update_Q_min_index(estimator, Q_min, Q_min_set, Q_min_index, new_feature_set, X_train, Y_train, X_test, Y_test)\n",
    "        \n",
    "        print ('Q_min: %.4lf, set_size: %d, added: %s' % (Q_min[feature_set_size], feature_set_size, Q_min_set[feature_set_size][-1]))        \n",
    "    \n",
    "    # критерий останова\n",
    "        if Q_min_index + look_forward <= feature_set_size:\n",
    "            break\n",
    "    return Q_min_set[Q_min_index]\n",
    "\n",
    "def del_one(estimator, feature_set, X_train, Y_train, X_test, Y_test, look_forward=10):\n",
    "    \n",
    "#     инициализация\n",
    "    estimator.fit(X_train[:, feature_set], Y_train)\n",
    "    error = 1 - accuracy_score(Y_test, estimator.predict(X_test[:, feature_set]))\n",
    "    Q_min = {len(feature_set): error}\n",
    "    Q_min_set = {len(feature_set): deepcopy(feature_set)}\n",
    "    Q_min_index = len(feature_set)\n",
    "    \n",
    "#     итерационное удаление признаков\n",
    "    for feature_set_size in list(range(len(feature_set) - 1, 0, -1)):\n",
    "        Q_min[feature_set_size] = float('+inf')\n",
    "        features = copy(Q_min_set[feature_set_size + 1])\n",
    "        np.random.shuffle(features)\n",
    "        for feature in features:\n",
    "            new_feature_set = list(set(Q_min_set[feature_set_size + 1]).difference({feature}))\n",
    "            Q_min_index = update_Q_min_index(estimator, Q_min, Q_min_set, Q_min_index, new_feature_set, X_train, Y_train, X_test, Y_test)\n",
    "            \n",
    "        print ('Q_min: %.4lf, set_size: %d, deleted: %s' % (Q_min[feature_set_size], feature_set_size,\n",
    "            set(Q_min_set[feature_set_size + 1]).difference(set(Q_min_set[feature_set_size])),\n",
    "        ))\n",
    "        \n",
    "#         критерий останова\n",
    "        if feature_set_size + look_forward <= Q_min_index:\n",
    "            break\n",
    "    return Q_min_set[Q_min_index]\n",
    "\n",
    "# Наконец, реализуйте ADD-DELL\n",
    "def add_del(estimator, feature_set, X_train, Y_train, X_test, Y_test, look_forward=10):\n",
    "    Q_min = None\n",
    "    Q_min_current = float('+inf')\n",
    "    start_feature_set = []\n",
    "    \n",
    "#     количество итераций, приведших к увеличению ошибки\n",
    "    bad_iteration_count = 2\n",
    "    \n",
    "    while (Q_min is None) or (Q_min_current < Q_min or bad_iteration_count):\n",
    "        Q_min = Q_min_current\n",
    "        start_feature_set = add_one(estimator, feature_set, X_train, Y_train, X_test, Y_test, look_forward, start_feature_set=start_feature_set)\n",
    "        start_feature_set = del_one(estimator, start_feature_set, X_train, Y_train, X_test, Y_test, look_forward)\n",
    "        estimator.fit(X_train[:, start_feature_set], Y_train)\n",
    "        Q_min_current = 1 - accuracy_score(Y_test, estimator.predict(X_test[:, start_feature_set]))\n",
    "        \n",
    "        if Q_min_current >= Q_min:\n",
    "            bad_iteration_count -= 1\n",
    "        print ('Q_min: %.4lf, set_size: %d' % (Q_min_current, len(start_feature_set)))\n",
    "    return start_feature_set"
   ]
  },
  {
   "cell_type": "code",
   "execution_count": 77,
   "metadata": {},
   "outputs": [],
   "source": [
    "from sklearn.datasets import load_digits\n",
    "from copy import deepcopy, copy\n",
    "data = load_digits()\n",
    "X = data['data']\n",
    "Y = data['target']\n",
    "X_train, X_test, Y_train, Y_test = train_test_split(X, Y, test_size=0.33)"
   ]
  },
  {
   "cell_type": "code",
   "execution_count": 78,
   "metadata": {},
   "outputs": [
    {
     "name": "stdout",
     "output_type": "stream",
     "text": [
      "0.9764309764309764\n"
     ]
    }
   ],
   "source": [
    "#без уменьшения числа признаков\n",
    "estimator = kNNClassifier(n_neighbors=5)\n",
    "estimator.fit(X_train, Y_train)\n",
    "print(accuracy_score(Y_test, estimator.predict(X_test)))"
   ]
  },
  {
   "cell_type": "code",
   "execution_count": 59,
   "metadata": {},
   "outputs": [
    {
     "name": "stdout",
     "output_type": "stream",
     "text": [
      "Q_min: 0.7290, set_size: 1, added: 36\n",
      "Q_min: 0.6128, set_size: 2, added: 29\n",
      "Q_min: 0.4731, set_size: 3, added: 28\n",
      "Q_min: 0.3350, set_size: 4, added: 61\n",
      "Q_min: 0.2441, set_size: 5, added: 26\n",
      "Q_min: 0.1684, set_size: 6, added: 37\n",
      "Q_min: 0.1330, set_size: 7, added: 42\n",
      "Q_min: 0.0960, set_size: 8, added: 45\n",
      "Q_min: 0.0690, set_size: 9, added: 10\n",
      "Q_min: 0.0556, set_size: 10, added: 21\n",
      "Q_min: 0.0471, set_size: 11, added: 54\n",
      "Q_min: 0.0404, set_size: 12, added: 44\n",
      "Q_min: 0.0337, set_size: 13, added: 20\n",
      "Q_min: 0.0269, set_size: 14, added: 52\n",
      "Q_min: 0.0253, set_size: 15, added: 41\n",
      "Q_min: 0.0219, set_size: 16, added: 34\n",
      "Q_min: 0.0219, set_size: 17, added: 39\n",
      "Q_min: 0.0219, set_size: 18, added: 53\n",
      "Q_min: 0.0202, set_size: 19, added: 17\n",
      "Q_min: 0.0168, set_size: 20, added: 13\n",
      "Q_min: 0.0135, set_size: 21, added: 9\n",
      "Q_min: 0.0135, set_size: 22, added: 56\n",
      "Q_min: 0.0135, set_size: 23, added: 0\n",
      "Q_min: 0.0135, set_size: 24, added: 7\n",
      "Q_min: 0.0118, set_size: 25, added: 55\n",
      "Q_min: 0.0118, set_size: 26, added: 40\n",
      "Q_min: 0.0118, set_size: 27, added: 23\n",
      "Q_min: 0.0118, set_size: 28, added: 48\n",
      "Q_min: 0.0118, set_size: 29, added: 31\n",
      "Q_min: 0.0118, set_size: 24, deleted: {39}\n",
      "Q_min: 0.0118, set_size: 23, deleted: {0}\n",
      "Q_min: 0.0118, set_size: 22, deleted: {56}\n",
      "Q_min: 0.0135, set_size: 21, deleted: {55}\n",
      "Q_min: 0.0118, set_size: 25\n",
      "Q_min: 0.0118, set_size: 26, added: 48\n",
      "Q_min: 0.0118, set_size: 27, added: 40\n",
      "Q_min: 0.0118, set_size: 28, added: 47\n",
      "Q_min: 0.0118, set_size: 29, added: 31\n",
      "Q_min: 0.0118, set_size: 24, deleted: {0}\n",
      "Q_min: 0.0118, set_size: 23, deleted: {39}\n",
      "Q_min: 0.0118, set_size: 22, deleted: {56}\n",
      "Q_min: 0.0135, set_size: 21, deleted: {7}\n",
      "Q_min: 0.0118, set_size: 25\n",
      "Q_min: 0.0118, set_size: 26, added: 48\n",
      "Q_min: 0.0118, set_size: 27, added: 31\n",
      "Q_min: 0.0118, set_size: 28, added: 40\n",
      "Q_min: 0.0118, set_size: 29, added: 24\n",
      "Q_min: 0.0118, set_size: 24, deleted: {56}\n",
      "Q_min: 0.0118, set_size: 23, deleted: {0}\n",
      "Q_min: 0.0118, set_size: 22, deleted: {39}\n",
      "Q_min: 0.0135, set_size: 21, deleted: {7}\n",
      "Q_min: 0.0118, set_size: 25\n",
      "CPU times: user 6min 4s, sys: 22.1 s, total: 6min 27s\n",
      "Wall time: 3min 13s\n",
      "CPU times: user 210 ms, sys: 8.06 ms, total: 218 ms\n",
      "Wall time: 108 ms\n"
     ]
    },
    {
     "data": {
      "text/plain": [
       "0.9882154882154882"
      ]
     },
     "execution_count": 59,
     "metadata": {},
     "output_type": "execute_result"
    }
   ],
   "source": [
    "# проверьте вашу реализацию\n",
    "estimator = kNNClassifier(n_neighbors=5)\n",
    "%time feature_set = add_del(estimator, list(range(X_train.shape[1])), X_train, Y_train, X_test, Y_test, look_forward=4)\n",
    "%time accuracy_score(Y_test, estimator.fit(X_train[:, feature_set], Y_train).predict(X_test[:, feature_set]))"
   ]
  },
  {
   "cell_type": "markdown",
   "metadata": {},
   "source": [
    "**Вывод:** точность предсказаний нашего алгоритма повысилась при уменьшении числа признаков."
   ]
  }
 ],
 "metadata": {
  "anaconda-cloud": {},
  "kernelspec": {
   "display_name": "Python 3",
   "language": "python",
   "name": "python3"
  },
  "language_info": {
   "codemirror_mode": {
    "name": "ipython",
    "version": 3
   },
   "file_extension": ".py",
   "mimetype": "text/x-python",
   "name": "python",
   "nbconvert_exporter": "python",
   "pygments_lexer": "ipython3",
   "version": "3.6.4"
  }
 },
 "nbformat": 4,
 "nbformat_minor": 1
}
